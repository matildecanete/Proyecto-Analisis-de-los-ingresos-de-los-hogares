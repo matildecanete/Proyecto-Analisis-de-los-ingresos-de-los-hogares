{
  "nbformat": 4,
  "nbformat_minor": 0,
  "metadata": {
    "colab": {
      "provenance": [],
      "authorship_tag": "ABX9TyPXa+MCyMzV8jVnslE1Czkv",
      "include_colab_link": true
    },
    "kernelspec": {
      "name": "python3",
      "display_name": "Python 3"
    },
    "language_info": {
      "name": "python"
    }
  },
  "cells": [
    {
      "cell_type": "markdown",
      "metadata": {
        "id": "view-in-github",
        "colab_type": "text"
      },
      "source": [
        "<a href=\"https://colab.research.google.com/github/matildecanete/Proyecto-Analisis-de-los-ingresos-de-los-hogares/blob/main/Diccionario_de_datos_An%C3%A1lisis_de_los_ingresos_de_los_hogares.ipynb\" target=\"_parent\"><img src=\"https://colab.research.google.com/assets/colab-badge.svg\" alt=\"Open In Colab\"/></a>"
      ]
    },
    {
      "cell_type": "markdown",
      "source": [
        "Este conjunto de datos sintéticos simula diversos factores demográficos y socioeconómicos que influyen en los ingresos anuales de los hogares."
      ],
      "metadata": {
        "id": "e9cgXHaRtmZM"
      }
    },
    {
      "cell_type": "markdown",
      "source": [
        "Descripción de las variables del conjunto de datos.\n",
        "\n",
        "- El dataset contiene las siguientes características:\n",
        "\n",
        "     - Age: Edad del miembro principal del hogar (18 a 70 años).\n",
        "\n",
        "     - Education Level: Nivel de educación más alto alcanzado (bachillerato, licenciatura, maestría, doctorado).\n",
        "\n",
        "     - Occupation: Tipo de ocupación (Salud, Educación, Tecnología, Finanzas, Otros).\n",
        "\n",
        "     - Number of Dependents: Número de dependientes en el hogar (0 a 5).\n",
        "\n",
        "     - Location: Ubicación residencial (urbana, suburbana, rural).\n",
        "\n",
        "     - Work Experience: Años de experiencia laboral (0 a 50 años).\n",
        "\n",
        "     - Marital Status: Estado civil del miembro principal del hogar (soltero, casado, divorciado).\n",
        "\n",
        "     - Employment Status: Situación laboral del miembro principal del hogar (tiempo completo, tiempo parcial, trabajador autónomo).\n",
        "\n",
        "     - Household Size: Número total de personas que viven en el hogar (1 a 7).\n",
        "\n",
        "     - Homeownership Status: Estado de propiedad de la vivienda (propio, alquilado).\n",
        "\n",
        "     - Type of Housing: Tipo de vivienda (Piso, Vivienda Unifamiliar, Casa Adosada).\n",
        "\n",
        "     - Gender: Género del miembro principal del hogar (masculino, femenino).\n",
        "\n",
        "     - Primary Mode of Transportation: Modo de transporte principal utilizado por el miembro del hogar (automóvil, transporte público, bicicleta, caminar).\n",
        "\n",
        "     - Annual Household Income: Ingresos anuales reales del hogar, derivados de una combinación de características. Unidad USD."
      ],
      "metadata": {
        "id": "pGYPrEkUsArD"
      }
    }
  ]
}